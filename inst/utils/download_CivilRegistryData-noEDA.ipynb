{
 "cells": [
  {
   "cell_type": "markdown",
   "id": "df710f1e",
   "metadata": {},
   "source": [
    "# Processing the data from https://github.com/capyvara/brazil-civil-registry-data"
   ]
  },
  {
   "cell_type": "code",
   "execution_count": 1,
   "id": "c0d5094c",
   "metadata": {},
   "outputs": [],
   "source": [
    "import pandas as pd\n",
    "import matplotlib.pyplot as plt\n",
    "from matplotlib.dates import DateFormatter\n",
    "import matplotlib.dates as mdates\n",
    "import seaborn as sns\n",
    "sns.set()"
   ]
  },
  {
   "cell_type": "code",
   "execution_count": 2,
   "id": "e8098165",
   "metadata": {},
   "outputs": [],
   "source": [
    "raw_registry_data_path = 'C:/Users/iwona/Desktop/brazil-civil-registry-data/'\n",
    "project_data_path = '../data/'\n",
    "save_data_path = '../data/'"
   ]
  },
  {
   "cell_type": "code",
   "execution_count": 3,
   "id": "9d11edab",
   "metadata": {},
   "outputs": [],
   "source": [
    "cities = [\n",
    "'Macapá',\n",
    "'Manaus',\n",
    "'Salvador',\n",
    "'Goiânia',\n",
    "'São Luís',\n",
    "# 'Campo Grande',\n",
    "'Belo Horizonte',\n",
    "'João Pessoa',\n",
    "'Curitiba',\n",
    "'Rio de Janeiro',\n",
    "'Natal',\n",
    "'Porto Alegre',\n",
    "'Porto Velho',\n",
    "'Florianópolis',\n",
    "'São Paulo',\n",
    "# 'Palmas',\n",
    "]"
   ]
  },
  {
   "cell_type": "code",
   "execution_count": 4,
   "id": "51383ae8",
   "metadata": {},
   "outputs": [],
   "source": [
    "cities_dict = {\n",
    "'Macapá': 'Macapa',\n",
    "'Manaus': 'Manaus',\n",
    "'Salvador':'Salvador',\n",
    "'Goiânia': 'Goiania',\n",
    "'São Luís':'Sao Luis',\n",
    "# 'Campo Grande':'Campo Grande',\n",
    "'Belo Horizonte':'Belo Horizonte',\n",
    "'João Pessoa':'Joao Pessoa',\n",
    "'Curitiba':'Curitiba',\n",
    "'Rio de Janeiro':'Rio de Janeiro',\n",
    "'Natal':'Natal',\n",
    "'Porto Alegre':'Porto Alegre',\n",
    "'Porto Velho':'Porto Velho',\n",
    "'Florianópolis':'Florianopolis',\n",
    "'São Paulo':'Sao Paulo',\n",
    "# 'Palmas':'Palmas',\n",
    "}"
   ]
  },
  {
   "cell_type": "markdown",
   "id": "dd4f4b9b",
   "metadata": {},
   "source": [
    "# 1. Registry deaths per month"
   ]
  },
  {
   "cell_type": "code",
   "execution_count": 5,
   "id": "442fb3c2",
   "metadata": {},
   "outputs": [
    {
     "name": "stdout",
     "output_type": "stream",
     "text": [
      "['Manaus' 'Macapá' 'Salvador' 'Goiânia' 'São Luís' 'Belo Horizonte'\n",
      " 'João Pessoa' 'Curitiba' 'Rio de Janeiro' 'Natal' 'Porto Velho'\n",
      " 'Porto Alegre' 'Florianópolis' 'São Paulo']\n"
     ]
    },
    {
     "data": {
      "text/html": [
       "<div>\n",
       "<style scoped>\n",
       "    .dataframe tbody tr th:only-of-type {\n",
       "        vertical-align: middle;\n",
       "    }\n",
       "\n",
       "    .dataframe tbody tr th {\n",
       "        vertical-align: top;\n",
       "    }\n",
       "\n",
       "    .dataframe thead th {\n",
       "        text-align: right;\n",
       "    }\n",
       "</style>\n",
       "<table border=\"1\" class=\"dataframe\">\n",
       "  <thead>\n",
       "    <tr style=\"text-align: right;\">\n",
       "      <th></th>\n",
       "      <th>start_date</th>\n",
       "      <th>end_date</th>\n",
       "      <th>state</th>\n",
       "      <th>state_ibge_code</th>\n",
       "      <th>city</th>\n",
       "      <th>city_ibge_code</th>\n",
       "      <th>deaths_total</th>\n",
       "      <th>created_at</th>\n",
       "    </tr>\n",
       "  </thead>\n",
       "  <tbody>\n",
       "    <tr>\n",
       "      <th>7604</th>\n",
       "      <td>2015-01-01</td>\n",
       "      <td>2015-01-31</td>\n",
       "      <td>AM</td>\n",
       "      <td>13</td>\n",
       "      <td>Manaus</td>\n",
       "      <td>1302603.0</td>\n",
       "      <td>403</td>\n",
       "      <td>2021-06-26 12:10</td>\n",
       "    </tr>\n",
       "    <tr>\n",
       "      <th>7605</th>\n",
       "      <td>2015-02-01</td>\n",
       "      <td>2015-02-28</td>\n",
       "      <td>AM</td>\n",
       "      <td>13</td>\n",
       "      <td>Manaus</td>\n",
       "      <td>1302603.0</td>\n",
       "      <td>404</td>\n",
       "      <td>2021-06-26 12:20</td>\n",
       "    </tr>\n",
       "    <tr>\n",
       "      <th>7606</th>\n",
       "      <td>2015-03-01</td>\n",
       "      <td>2015-03-31</td>\n",
       "      <td>AM</td>\n",
       "      <td>13</td>\n",
       "      <td>Manaus</td>\n",
       "      <td>1302603.0</td>\n",
       "      <td>168</td>\n",
       "      <td>2021-06-26 12:10</td>\n",
       "    </tr>\n",
       "    <tr>\n",
       "      <th>7607</th>\n",
       "      <td>2015-04-01</td>\n",
       "      <td>2015-04-30</td>\n",
       "      <td>AM</td>\n",
       "      <td>13</td>\n",
       "      <td>Manaus</td>\n",
       "      <td>1302603.0</td>\n",
       "      <td>143</td>\n",
       "      <td>2021-06-26 12:10</td>\n",
       "    </tr>\n",
       "    <tr>\n",
       "      <th>7608</th>\n",
       "      <td>2015-05-01</td>\n",
       "      <td>2015-05-31</td>\n",
       "      <td>AM</td>\n",
       "      <td>13</td>\n",
       "      <td>Manaus</td>\n",
       "      <td>1302603.0</td>\n",
       "      <td>456</td>\n",
       "      <td>2021-06-26 12:20</td>\n",
       "    </tr>\n",
       "  </tbody>\n",
       "</table>\n",
       "</div>"
      ],
      "text/plain": [
       "     start_date   end_date state  state_ibge_code    city  city_ibge_code  \\\n",
       "7604 2015-01-01 2015-01-31    AM               13  Manaus       1302603.0   \n",
       "7605 2015-02-01 2015-02-28    AM               13  Manaus       1302603.0   \n",
       "7606 2015-03-01 2015-03-31    AM               13  Manaus       1302603.0   \n",
       "7607 2015-04-01 2015-04-30    AM               13  Manaus       1302603.0   \n",
       "7608 2015-05-01 2015-05-31    AM               13  Manaus       1302603.0   \n",
       "\n",
       "      deaths_total        created_at  \n",
       "7604           403  2021-06-26 12:10  \n",
       "7605           404  2021-06-26 12:20  \n",
       "7606           168  2021-06-26 12:10  \n",
       "7607           143  2021-06-26 12:10  \n",
       "7608           456  2021-06-26 12:20  "
      ]
     },
     "execution_count": 5,
     "metadata": {},
     "output_type": "execute_result"
    }
   ],
   "source": [
    "registry_deaths = pd.read_csv(raw_registry_data_path + 'civil_registry_deaths.csv')\n",
    "#cities = registry_deaths['city'].unique()\n",
    "registry_deaths = registry_deaths[registry_deaths['city'].isin(cities)]\n",
    "registry_deaths.start_date = pd.to_datetime(registry_deaths.start_date)\n",
    "registry_deaths.end_date = pd.to_datetime(registry_deaths.end_date)\n",
    "\n",
    "# print(cities)\n",
    "print(registry_deaths.city.unique())\n",
    "\n",
    "registry_deaths.head()"
   ]
  },
  {
   "cell_type": "code",
   "execution_count": 6,
   "id": "3fc6c823",
   "metadata": {},
   "outputs": [
    {
     "data": {
      "text/html": [
       "<div>\n",
       "<style scoped>\n",
       "    .dataframe tbody tr th:only-of-type {\n",
       "        vertical-align: middle;\n",
       "    }\n",
       "\n",
       "    .dataframe tbody tr th {\n",
       "        vertical-align: top;\n",
       "    }\n",
       "\n",
       "    .dataframe thead th {\n",
       "        text-align: right;\n",
       "    }\n",
       "</style>\n",
       "<table border=\"1\" class=\"dataframe\">\n",
       "  <thead>\n",
       "    <tr style=\"text-align: right;\">\n",
       "      <th></th>\n",
       "      <th>start_date</th>\n",
       "      <th>end_date</th>\n",
       "      <th>state</th>\n",
       "      <th>state_ibge_code</th>\n",
       "      <th>city</th>\n",
       "      <th>city_ibge_code</th>\n",
       "      <th>deaths_total</th>\n",
       "      <th>created_at</th>\n",
       "    </tr>\n",
       "  </thead>\n",
       "  <tbody>\n",
       "    <tr>\n",
       "      <th>296310</th>\n",
       "      <td>2021-02-01</td>\n",
       "      <td>2021-02-28</td>\n",
       "      <td>SP</td>\n",
       "      <td>35</td>\n",
       "      <td>São Paulo</td>\n",
       "      <td>3550308.0</td>\n",
       "      <td>8408</td>\n",
       "      <td>2021-06-26 12:12</td>\n",
       "    </tr>\n",
       "    <tr>\n",
       "      <th>296311</th>\n",
       "      <td>2021-03-01</td>\n",
       "      <td>2021-03-31</td>\n",
       "      <td>SP</td>\n",
       "      <td>35</td>\n",
       "      <td>São Paulo</td>\n",
       "      <td>3550308.0</td>\n",
       "      <td>13146</td>\n",
       "      <td>2021-06-26 12:12</td>\n",
       "    </tr>\n",
       "    <tr>\n",
       "      <th>296312</th>\n",
       "      <td>2021-04-01</td>\n",
       "      <td>2021-04-30</td>\n",
       "      <td>SP</td>\n",
       "      <td>35</td>\n",
       "      <td>São Paulo</td>\n",
       "      <td>3550308.0</td>\n",
       "      <td>14006</td>\n",
       "      <td>2021-06-26 12:12</td>\n",
       "    </tr>\n",
       "    <tr>\n",
       "      <th>296313</th>\n",
       "      <td>2021-05-01</td>\n",
       "      <td>2021-05-31</td>\n",
       "      <td>SP</td>\n",
       "      <td>35</td>\n",
       "      <td>São Paulo</td>\n",
       "      <td>3550308.0</td>\n",
       "      <td>10985</td>\n",
       "      <td>2021-06-26 12:12</td>\n",
       "    </tr>\n",
       "    <tr>\n",
       "      <th>296314</th>\n",
       "      <td>2021-06-01</td>\n",
       "      <td>2021-06-30</td>\n",
       "      <td>SP</td>\n",
       "      <td>35</td>\n",
       "      <td>São Paulo</td>\n",
       "      <td>3550308.0</td>\n",
       "      <td>8837</td>\n",
       "      <td>2021-06-26 12:12</td>\n",
       "    </tr>\n",
       "  </tbody>\n",
       "</table>\n",
       "</div>"
      ],
      "text/plain": [
       "       start_date   end_date state  state_ibge_code       city  \\\n",
       "296310 2021-02-01 2021-02-28    SP               35  São Paulo   \n",
       "296311 2021-03-01 2021-03-31    SP               35  São Paulo   \n",
       "296312 2021-04-01 2021-04-30    SP               35  São Paulo   \n",
       "296313 2021-05-01 2021-05-31    SP               35  São Paulo   \n",
       "296314 2021-06-01 2021-06-30    SP               35  São Paulo   \n",
       "\n",
       "        city_ibge_code  deaths_total        created_at  \n",
       "296310       3550308.0          8408  2021-06-26 12:12  \n",
       "296311       3550308.0         13146  2021-06-26 12:12  \n",
       "296312       3550308.0         14006  2021-06-26 12:12  \n",
       "296313       3550308.0         10985  2021-06-26 12:12  \n",
       "296314       3550308.0          8837  2021-06-26 12:12  "
      ]
     },
     "execution_count": 6,
     "metadata": {},
     "output_type": "execute_result"
    }
   ],
   "source": [
    "registry_deaths.tail()"
   ]
  },
  {
   "cell_type": "markdown",
   "id": "929e1d74",
   "metadata": {},
   "source": [
    "### Make sure the cities are correct"
   ]
  },
  {
   "cell_type": "code",
   "execution_count": 7,
   "id": "d8c2d288",
   "metadata": {},
   "outputs": [
    {
     "name": "stdout",
     "output_type": "stream",
     "text": [
      "14\n",
      "14\n",
      "Cities correct\n"
     ]
    }
   ],
   "source": [
    "print(len(cities))\n",
    "print(len(registry_deaths.city.unique()))\n",
    "check =  all(item in cities for item in list(registry_deaths.city.unique()))\n",
    "if check:\n",
    "    print('Cities correct')\n",
    "else:\n",
    "    print('Cities NOT correct')"
   ]
  },
  {
   "cell_type": "markdown",
   "id": "f88f39b7",
   "metadata": {},
   "source": [
    "### Delete redundant columns"
   ]
  },
  {
   "cell_type": "code",
   "execution_count": 8,
   "id": "96550335",
   "metadata": {},
   "outputs": [],
   "source": [
    "registry_deaths.drop(columns = ['state_ibge_code', 'city_ibge_code', 'created_at'], inplace=True)\n",
    "registry_deaths.reset_index(drop=True, inplace=True)"
   ]
  },
  {
   "cell_type": "markdown",
   "id": "481857c0",
   "metadata": {},
   "source": [
    "### Translate the cities to remove the Portuguese characters"
   ]
  },
  {
   "cell_type": "code",
   "execution_count": 9,
   "id": "bfc0f2ab",
   "metadata": {},
   "outputs": [
    {
     "name": "stdout",
     "output_type": "stream",
     "text": [
      "['Manaus' 'Macapa' 'Salvador' 'Goiania' 'Sao Luis' 'Belo Horizonte'\n",
      " 'Joao Pessoa' 'Curitiba' 'Rio de Janeiro' 'Natal' 'Porto Velho'\n",
      " 'Porto Alegre' 'Florianopolis' 'Sao Paulo']\n"
     ]
    }
   ],
   "source": [
    "registry_deaths.replace({\"city\": cities_dict}, inplace=True)\n",
    "print(registry_deaths.city.unique())"
   ]
  },
  {
   "cell_type": "markdown",
   "id": "99e439a4",
   "metadata": {},
   "source": [
    "### Save to csv"
   ]
  },
  {
   "cell_type": "code",
   "execution_count": 10,
   "id": "3ceceb2e",
   "metadata": {},
   "outputs": [],
   "source": [
    "registry_deaths.to_csv(save_data_path + 'registry_monthly.csv', index=False)"
   ]
  },
  {
   "cell_type": "markdown",
   "id": "32c8119f",
   "metadata": {},
   "source": [
    "# 2. Covid deaths"
   ]
  },
  {
   "cell_type": "code",
   "execution_count": 11,
   "id": "695a0a02",
   "metadata": {},
   "outputs": [
    {
     "name": "stdout",
     "output_type": "stream",
     "text": [
      "['Manaus' 'Macapá' 'Salvador' 'Goiânia' 'São Luís' 'Belo Horizonte'\n",
      " 'João Pessoa' 'Curitiba' 'Rio de Janeiro' 'Natal' 'Porto Velho'\n",
      " 'Porto Alegre' 'Florianópolis' 'São Paulo']\n"
     ]
    },
    {
     "data": {
      "text/html": [
       "<div>\n",
       "<style scoped>\n",
       "    .dataframe tbody tr th:only-of-type {\n",
       "        vertical-align: middle;\n",
       "    }\n",
       "\n",
       "    .dataframe tbody tr th {\n",
       "        vertical-align: top;\n",
       "    }\n",
       "\n",
       "    .dataframe thead th {\n",
       "        text-align: right;\n",
       "    }\n",
       "</style>\n",
       "<table border=\"1\" class=\"dataframe\">\n",
       "  <thead>\n",
       "    <tr style=\"text-align: right;\">\n",
       "      <th></th>\n",
       "      <th>date</th>\n",
       "      <th>state</th>\n",
       "      <th>city</th>\n",
       "      <th>place</th>\n",
       "      <th>gender</th>\n",
       "      <th>age_group</th>\n",
       "      <th>deaths_sars</th>\n",
       "      <th>deaths_pneumonia</th>\n",
       "      <th>deaths_respiratory_failure</th>\n",
       "      <th>deaths_septicemia</th>\n",
       "      <th>deaths_indeterminate</th>\n",
       "      <th>deaths_others</th>\n",
       "      <th>deaths_covid19</th>\n",
       "      <th>deaths_stroke</th>\n",
       "      <th>deaths_stroke_covid19</th>\n",
       "      <th>deaths_cardiopathy</th>\n",
       "      <th>deaths_cardiogenic_shock</th>\n",
       "      <th>deaths_heart_attack</th>\n",
       "      <th>deaths_heart_attack_covid19</th>\n",
       "      <th>deaths_sudden_cardiac</th>\n",
       "    </tr>\n",
       "  </thead>\n",
       "  <tbody>\n",
       "    <tr>\n",
       "      <th>0</th>\n",
       "      <td>2019-01-01</td>\n",
       "      <td>AM</td>\n",
       "      <td>Manaus</td>\n",
       "      <td>home</td>\n",
       "      <td>F</td>\n",
       "      <td>40-49</td>\n",
       "      <td>NaN</td>\n",
       "      <td>NaN</td>\n",
       "      <td>NaN</td>\n",
       "      <td>NaN</td>\n",
       "      <td>NaN</td>\n",
       "      <td>1.0</td>\n",
       "      <td>NaN</td>\n",
       "      <td>NaN</td>\n",
       "      <td>NaN</td>\n",
       "      <td>NaN</td>\n",
       "      <td>NaN</td>\n",
       "      <td>NaN</td>\n",
       "      <td>NaN</td>\n",
       "      <td>NaN</td>\n",
       "    </tr>\n",
       "    <tr>\n",
       "      <th>1</th>\n",
       "      <td>2019-01-01</td>\n",
       "      <td>AM</td>\n",
       "      <td>Manaus</td>\n",
       "      <td>home</td>\n",
       "      <td>F</td>\n",
       "      <td>90-99</td>\n",
       "      <td>NaN</td>\n",
       "      <td>NaN</td>\n",
       "      <td>NaN</td>\n",
       "      <td>NaN</td>\n",
       "      <td>NaN</td>\n",
       "      <td>1.0</td>\n",
       "      <td>NaN</td>\n",
       "      <td>NaN</td>\n",
       "      <td>NaN</td>\n",
       "      <td>NaN</td>\n",
       "      <td>NaN</td>\n",
       "      <td>NaN</td>\n",
       "      <td>NaN</td>\n",
       "      <td>NaN</td>\n",
       "    </tr>\n",
       "    <tr>\n",
       "      <th>2</th>\n",
       "      <td>2019-01-01</td>\n",
       "      <td>AM</td>\n",
       "      <td>Manaus</td>\n",
       "      <td>home</td>\n",
       "      <td>M</td>\n",
       "      <td>50-59</td>\n",
       "      <td>NaN</td>\n",
       "      <td>NaN</td>\n",
       "      <td>NaN</td>\n",
       "      <td>NaN</td>\n",
       "      <td>NaN</td>\n",
       "      <td>1.0</td>\n",
       "      <td>NaN</td>\n",
       "      <td>NaN</td>\n",
       "      <td>NaN</td>\n",
       "      <td>NaN</td>\n",
       "      <td>NaN</td>\n",
       "      <td>NaN</td>\n",
       "      <td>NaN</td>\n",
       "      <td>NaN</td>\n",
       "    </tr>\n",
       "    <tr>\n",
       "      <th>3</th>\n",
       "      <td>2019-01-01</td>\n",
       "      <td>AM</td>\n",
       "      <td>Manaus</td>\n",
       "      <td>home</td>\n",
       "      <td>M</td>\n",
       "      <td>60-69</td>\n",
       "      <td>NaN</td>\n",
       "      <td>NaN</td>\n",
       "      <td>NaN</td>\n",
       "      <td>NaN</td>\n",
       "      <td>NaN</td>\n",
       "      <td>1.0</td>\n",
       "      <td>NaN</td>\n",
       "      <td>NaN</td>\n",
       "      <td>NaN</td>\n",
       "      <td>NaN</td>\n",
       "      <td>NaN</td>\n",
       "      <td>NaN</td>\n",
       "      <td>NaN</td>\n",
       "      <td>NaN</td>\n",
       "    </tr>\n",
       "    <tr>\n",
       "      <th>4</th>\n",
       "      <td>2019-01-01</td>\n",
       "      <td>AM</td>\n",
       "      <td>Manaus</td>\n",
       "      <td>hospital</td>\n",
       "      <td>F</td>\n",
       "      <td>100+</td>\n",
       "      <td>NaN</td>\n",
       "      <td>NaN</td>\n",
       "      <td>NaN</td>\n",
       "      <td>NaN</td>\n",
       "      <td>NaN</td>\n",
       "      <td>NaN</td>\n",
       "      <td>NaN</td>\n",
       "      <td>1.0</td>\n",
       "      <td>NaN</td>\n",
       "      <td>NaN</td>\n",
       "      <td>NaN</td>\n",
       "      <td>NaN</td>\n",
       "      <td>NaN</td>\n",
       "      <td>NaN</td>\n",
       "    </tr>\n",
       "  </tbody>\n",
       "</table>\n",
       "</div>"
      ],
      "text/plain": [
       "         date state    city     place gender age_group  deaths_sars  \\\n",
       "0  2019-01-01    AM  Manaus      home      F     40-49          NaN   \n",
       "1  2019-01-01    AM  Manaus      home      F     90-99          NaN   \n",
       "2  2019-01-01    AM  Manaus      home      M     50-59          NaN   \n",
       "3  2019-01-01    AM  Manaus      home      M     60-69          NaN   \n",
       "4  2019-01-01    AM  Manaus  hospital      F      100+          NaN   \n",
       "\n",
       "   deaths_pneumonia  deaths_respiratory_failure  deaths_septicemia  \\\n",
       "0               NaN                         NaN                NaN   \n",
       "1               NaN                         NaN                NaN   \n",
       "2               NaN                         NaN                NaN   \n",
       "3               NaN                         NaN                NaN   \n",
       "4               NaN                         NaN                NaN   \n",
       "\n",
       "   deaths_indeterminate  deaths_others  deaths_covid19  deaths_stroke  \\\n",
       "0                   NaN            1.0             NaN            NaN   \n",
       "1                   NaN            1.0             NaN            NaN   \n",
       "2                   NaN            1.0             NaN            NaN   \n",
       "3                   NaN            1.0             NaN            NaN   \n",
       "4                   NaN            NaN             NaN            1.0   \n",
       "\n",
       "   deaths_stroke_covid19  deaths_cardiopathy  deaths_cardiogenic_shock  \\\n",
       "0                    NaN                 NaN                       NaN   \n",
       "1                    NaN                 NaN                       NaN   \n",
       "2                    NaN                 NaN                       NaN   \n",
       "3                    NaN                 NaN                       NaN   \n",
       "4                    NaN                 NaN                       NaN   \n",
       "\n",
       "   deaths_heart_attack  deaths_heart_attack_covid19  deaths_sudden_cardiac  \n",
       "0                  NaN                          NaN                    NaN  \n",
       "1                  NaN                          NaN                    NaN  \n",
       "2                  NaN                          NaN                    NaN  \n",
       "3                  NaN                          NaN                    NaN  \n",
       "4                  NaN                          NaN                    NaN  "
      ]
     },
     "execution_count": 11,
     "metadata": {},
     "output_type": "execute_result"
    }
   ],
   "source": [
    "covid_deaths = pd.read_csv(raw_registry_data_path + 'civil_registry_covid_cities_detailed.csv')\n",
    "covid_deaths = covid_deaths[covid_deaths['city'].isin(cities)]\n",
    "covid_deaths.drop(columns = ['state_ibge_code', 'city_ibge_code', 'created_at'], inplace=True)\n",
    "covid_deaths.reset_index(drop=True, inplace=True)\n",
    "print(covid_deaths['city'].unique())\n",
    "covid_deaths.head()"
   ]
  },
  {
   "cell_type": "code",
   "execution_count": 12,
   "id": "04b0582c",
   "metadata": {},
   "outputs": [
    {
     "name": "stdout",
     "output_type": "stream",
     "text": [
      "14\n",
      "14\n",
      "Cities NOT correct\n"
     ]
    }
   ],
   "source": [
    "print(len(cities))\n",
    "print(len(registry_deaths.city.unique()))\n",
    "check =  all(item in cities for item in list(registry_deaths.city.unique()))\n",
    "if check:\n",
    "    print('Cities correct')\n",
    "else:\n",
    "    print('Cities NOT correct')"
   ]
  },
  {
   "cell_type": "code",
   "execution_count": 13,
   "id": "f2dd29f1",
   "metadata": {},
   "outputs": [
    {
     "data": {
      "text/plain": [
       "array(['home', 'hospital', 'public', 'others'], dtype=object)"
      ]
     },
     "execution_count": 13,
     "metadata": {},
     "output_type": "execute_result"
    }
   ],
   "source": [
    "covid_deaths.place.unique()"
   ]
  },
  {
   "cell_type": "markdown",
   "id": "748845b8",
   "metadata": {},
   "source": [
    "### Group the deaths to non-covid and covid"
   ]
  },
  {
   "cell_type": "code",
   "execution_count": 14,
   "id": "8b69d5eb",
   "metadata": {},
   "outputs": [],
   "source": [
    "columns_non_covid_deaths = ['deaths_sars',\n",
    "       'deaths_pneumonia', 'deaths_respiratory_failure', 'deaths_septicemia',\n",
    "       'deaths_indeterminate', 'deaths_others',\n",
    "       'deaths_stroke', 'deaths_cardiopathy',\n",
    "       'deaths_cardiogenic_shock', 'deaths_heart_attack', 'deaths_sudden_cardiac']\n",
    "columns_covid_deaths = ['deaths_covid19', 'deaths_stroke_covid19',\n",
    "       'deaths_heart_attack_covid19']"
   ]
  },
  {
   "cell_type": "code",
   "execution_count": 15,
   "id": "a13a0ca7",
   "metadata": {},
   "outputs": [],
   "source": [
    "def sum_columns(df, columns):\n",
    "    df.fillna(0, inplace=True)\n",
    "    vals = df[columns[0]].values\n",
    "    for c in columns[1:]:\n",
    "        vals = vals + df[c].values\n",
    "    return vals"
   ]
  },
  {
   "cell_type": "code",
   "execution_count": 16,
   "id": "6858852d",
   "metadata": {},
   "outputs": [
    {
     "data": {
      "text/html": [
       "<div>\n",
       "<style scoped>\n",
       "    .dataframe tbody tr th:only-of-type {\n",
       "        vertical-align: middle;\n",
       "    }\n",
       "\n",
       "    .dataframe tbody tr th {\n",
       "        vertical-align: top;\n",
       "    }\n",
       "\n",
       "    .dataframe thead th {\n",
       "        text-align: right;\n",
       "    }\n",
       "</style>\n",
       "<table border=\"1\" class=\"dataframe\">\n",
       "  <thead>\n",
       "    <tr style=\"text-align: right;\">\n",
       "      <th></th>\n",
       "      <th>date</th>\n",
       "      <th>state</th>\n",
       "      <th>city</th>\n",
       "      <th>place</th>\n",
       "      <th>gender</th>\n",
       "      <th>age_group</th>\n",
       "      <th>deaths_non_covid</th>\n",
       "      <th>deaths_covid</th>\n",
       "      <th>deaths_total</th>\n",
       "    </tr>\n",
       "  </thead>\n",
       "  <tbody>\n",
       "    <tr>\n",
       "      <th>0</th>\n",
       "      <td>2019-01-01</td>\n",
       "      <td>AM</td>\n",
       "      <td>Manaus</td>\n",
       "      <td>home</td>\n",
       "      <td>F</td>\n",
       "      <td>40-49</td>\n",
       "      <td>1.0</td>\n",
       "      <td>0.0</td>\n",
       "      <td>1.0</td>\n",
       "    </tr>\n",
       "    <tr>\n",
       "      <th>1</th>\n",
       "      <td>2019-01-01</td>\n",
       "      <td>AM</td>\n",
       "      <td>Manaus</td>\n",
       "      <td>home</td>\n",
       "      <td>F</td>\n",
       "      <td>90-99</td>\n",
       "      <td>1.0</td>\n",
       "      <td>0.0</td>\n",
       "      <td>1.0</td>\n",
       "    </tr>\n",
       "    <tr>\n",
       "      <th>2</th>\n",
       "      <td>2019-01-01</td>\n",
       "      <td>AM</td>\n",
       "      <td>Manaus</td>\n",
       "      <td>home</td>\n",
       "      <td>M</td>\n",
       "      <td>50-59</td>\n",
       "      <td>1.0</td>\n",
       "      <td>0.0</td>\n",
       "      <td>1.0</td>\n",
       "    </tr>\n",
       "    <tr>\n",
       "      <th>3</th>\n",
       "      <td>2019-01-01</td>\n",
       "      <td>AM</td>\n",
       "      <td>Manaus</td>\n",
       "      <td>home</td>\n",
       "      <td>M</td>\n",
       "      <td>60-69</td>\n",
       "      <td>1.0</td>\n",
       "      <td>0.0</td>\n",
       "      <td>1.0</td>\n",
       "    </tr>\n",
       "    <tr>\n",
       "      <th>4</th>\n",
       "      <td>2019-01-01</td>\n",
       "      <td>AM</td>\n",
       "      <td>Manaus</td>\n",
       "      <td>hospital</td>\n",
       "      <td>F</td>\n",
       "      <td>100+</td>\n",
       "      <td>1.0</td>\n",
       "      <td>0.0</td>\n",
       "      <td>1.0</td>\n",
       "    </tr>\n",
       "    <tr>\n",
       "      <th>...</th>\n",
       "      <td>...</td>\n",
       "      <td>...</td>\n",
       "      <td>...</td>\n",
       "      <td>...</td>\n",
       "      <td>...</td>\n",
       "      <td>...</td>\n",
       "      <td>...</td>\n",
       "      <td>...</td>\n",
       "      <td>...</td>\n",
       "    </tr>\n",
       "    <tr>\n",
       "      <th>220608</th>\n",
       "      <td>2021-06-25</td>\n",
       "      <td>SP</td>\n",
       "      <td>São Paulo</td>\n",
       "      <td>hospital</td>\n",
       "      <td>F</td>\n",
       "      <td>80-89</td>\n",
       "      <td>3.0</td>\n",
       "      <td>1.0</td>\n",
       "      <td>4.0</td>\n",
       "    </tr>\n",
       "    <tr>\n",
       "      <th>220609</th>\n",
       "      <td>2021-06-25</td>\n",
       "      <td>SP</td>\n",
       "      <td>São Paulo</td>\n",
       "      <td>hospital</td>\n",
       "      <td>F</td>\n",
       "      <td>90-99</td>\n",
       "      <td>1.0</td>\n",
       "      <td>0.0</td>\n",
       "      <td>1.0</td>\n",
       "    </tr>\n",
       "    <tr>\n",
       "      <th>220610</th>\n",
       "      <td>2021-06-25</td>\n",
       "      <td>SP</td>\n",
       "      <td>São Paulo</td>\n",
       "      <td>hospital</td>\n",
       "      <td>M</td>\n",
       "      <td>50-59</td>\n",
       "      <td>1.0</td>\n",
       "      <td>0.0</td>\n",
       "      <td>1.0</td>\n",
       "    </tr>\n",
       "    <tr>\n",
       "      <th>220611</th>\n",
       "      <td>2021-06-25</td>\n",
       "      <td>SP</td>\n",
       "      <td>São Paulo</td>\n",
       "      <td>hospital</td>\n",
       "      <td>M</td>\n",
       "      <td>60-69</td>\n",
       "      <td>2.0</td>\n",
       "      <td>0.0</td>\n",
       "      <td>2.0</td>\n",
       "    </tr>\n",
       "    <tr>\n",
       "      <th>220612</th>\n",
       "      <td>2021-06-25</td>\n",
       "      <td>SP</td>\n",
       "      <td>São Paulo</td>\n",
       "      <td>hospital</td>\n",
       "      <td>M</td>\n",
       "      <td>80-89</td>\n",
       "      <td>1.0</td>\n",
       "      <td>2.0</td>\n",
       "      <td>3.0</td>\n",
       "    </tr>\n",
       "  </tbody>\n",
       "</table>\n",
       "<p>220613 rows × 9 columns</p>\n",
       "</div>"
      ],
      "text/plain": [
       "              date state       city     place gender age_group  \\\n",
       "0       2019-01-01    AM     Manaus      home      F     40-49   \n",
       "1       2019-01-01    AM     Manaus      home      F     90-99   \n",
       "2       2019-01-01    AM     Manaus      home      M     50-59   \n",
       "3       2019-01-01    AM     Manaus      home      M     60-69   \n",
       "4       2019-01-01    AM     Manaus  hospital      F      100+   \n",
       "...            ...   ...        ...       ...    ...       ...   \n",
       "220608  2021-06-25    SP  São Paulo  hospital      F     80-89   \n",
       "220609  2021-06-25    SP  São Paulo  hospital      F     90-99   \n",
       "220610  2021-06-25    SP  São Paulo  hospital      M     50-59   \n",
       "220611  2021-06-25    SP  São Paulo  hospital      M     60-69   \n",
       "220612  2021-06-25    SP  São Paulo  hospital      M     80-89   \n",
       "\n",
       "        deaths_non_covid  deaths_covid  deaths_total  \n",
       "0                    1.0           0.0           1.0  \n",
       "1                    1.0           0.0           1.0  \n",
       "2                    1.0           0.0           1.0  \n",
       "3                    1.0           0.0           1.0  \n",
       "4                    1.0           0.0           1.0  \n",
       "...                  ...           ...           ...  \n",
       "220608               3.0           1.0           4.0  \n",
       "220609               1.0           0.0           1.0  \n",
       "220610               1.0           0.0           1.0  \n",
       "220611               2.0           0.0           2.0  \n",
       "220612               1.0           2.0           3.0  \n",
       "\n",
       "[220613 rows x 9 columns]"
      ]
     },
     "execution_count": 16,
     "metadata": {},
     "output_type": "execute_result"
    }
   ],
   "source": [
    "cd = covid_deaths.copy()\n",
    "cd['deaths_non_covid'] = sum_columns(cd, columns_non_covid_deaths)\n",
    "cd['deaths_covid'] = sum_columns(cd, columns_covid_deaths)\n",
    "cd['deaths_total'] = sum_columns(cd, ['deaths_non_covid', 'deaths_covid'])\n",
    "cd.drop(columns=columns_non_covid_deaths, inplace=True)\n",
    "cd.drop(columns=columns_covid_deaths, inplace=True)\n",
    "cd"
   ]
  },
  {
   "cell_type": "code",
   "execution_count": 17,
   "id": "e2809bc0",
   "metadata": {},
   "outputs": [
    {
     "name": "stdout",
     "output_type": "stream",
     "text": [
      "['40-49' '90-99' '50-59' '60-69' '100+' '30-39' '70-79' '80-89' '9-'\n",
      " '10-19' '20-29' 0]\n"
     ]
    }
   ],
   "source": [
    "print(cd.age_group.unique())"
   ]
  },
  {
   "cell_type": "markdown",
   "id": "10e48735",
   "metadata": {},
   "source": [
    "'9-' age group is people 9 years old or younger; group 0 is NA (see https://github.com/capyvara/brazil-civil-registry-data)"
   ]
  },
  {
   "cell_type": "markdown",
   "id": "d3252ce9",
   "metadata": {},
   "source": [
    "### Change age group '0' to 'unknown'"
   ]
  },
  {
   "cell_type": "code",
   "execution_count": 18,
   "id": "8a4a0c81",
   "metadata": {},
   "outputs": [
    {
     "name": "stdout",
     "output_type": "stream",
     "text": [
      "['40-49' '90-99' '50-59' '60-69' '100+' '30-39' '70-79' '80-89' '9-'\n",
      " '10-19' '20-29' 'unknown']\n"
     ]
    },
    {
     "name": "stderr",
     "output_type": "stream",
     "text": [
      "C:\\Users\\iwona\\anaconda3\\lib\\site-packages\\ipykernel_launcher.py:1: SettingWithCopyWarning: \n",
      "A value is trying to be set on a copy of a slice from a DataFrame\n",
      "\n",
      "See the caveats in the documentation: https://pandas.pydata.org/pandas-docs/stable/user_guide/indexing.html#returning-a-view-versus-a-copy\n",
      "  \"\"\"Entry point for launching an IPython kernel.\n"
     ]
    }
   ],
   "source": [
    "cd['age_group'][cd['age_group'] == 0] = 'unknown'\n",
    "print(cd.age_group.unique())"
   ]
  },
  {
   "cell_type": "markdown",
   "id": "082d6e68",
   "metadata": {},
   "source": [
    "### Translate the cities to remove the Portuguese characters"
   ]
  },
  {
   "cell_type": "code",
   "execution_count": 19,
   "id": "6bacc7b1",
   "metadata": {},
   "outputs": [
    {
     "name": "stdout",
     "output_type": "stream",
     "text": [
      "['Manaus' 'Macapa' 'Salvador' 'Goiania' 'Sao Luis' 'Belo Horizonte'\n",
      " 'Joao Pessoa' 'Curitiba' 'Rio de Janeiro' 'Natal' 'Porto Velho'\n",
      " 'Porto Alegre' 'Florianopolis' 'Sao Paulo']\n"
     ]
    }
   ],
   "source": [
    "cd.replace({\"city\": cities_dict}, inplace=True)\n",
    "print(cd.city.unique())"
   ]
  },
  {
   "cell_type": "markdown",
   "id": "03b2a5e4",
   "metadata": {},
   "source": [
    "### Save dataframes to csv"
   ]
  },
  {
   "cell_type": "code",
   "execution_count": 20,
   "id": "6cff84ee",
   "metadata": {},
   "outputs": [],
   "source": [
    "cd.to_csv(save_data_path + 'registry_covid_detailed.csv', index=False)"
   ]
  }
 ],
 "metadata": {
  "kernelspec": {
   "display_name": "Python 3",
   "language": "python",
   "name": "python3"
  },
  "language_info": {
   "codemirror_mode": {
    "name": "ipython",
    "version": 3
   },
   "file_extension": ".py",
   "mimetype": "text/x-python",
   "name": "python",
   "nbconvert_exporter": "python",
   "pygments_lexer": "ipython3",
   "version": "3.7.7"
  }
 },
 "nbformat": 4,
 "nbformat_minor": 5
}
